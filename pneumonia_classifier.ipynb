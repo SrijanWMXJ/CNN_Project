{
 "cells": [
  {
   "cell_type": "code",
   "execution_count": 2,
   "id": "960bc3aa",
   "metadata": {},
   "outputs": [],
   "source": [
    "import numpy as np\n",
    "import pandas as pd\n",
    "import seaborn as sns\n",
    "import matplotlib.pyplot as plt\n",
    "import os, random, shutil\n",
    "import sklearn\n",
    "import tensorflow as tf\n",
    "from tensorflow import keras\n",
    "from tensorflow.keras.preprocessing.image import ImageDataGenerator\n",
    "#from keras.preprocessing.image import ImageDataGenerator, load_img\n",
    "from keras.preprocessing.image import ImageDataGenerator\n",
    "from tensorflow.keras.models import Sequential\n",
    "from tensorflow.keras.layers import Activation, Dropout, Dense, Flatten, BatchNormalization, Conv2D, MaxPool2D, MaxPooling2D\n",
    "from tensorflow.keras.optimizers import Adam\n",
    "from tensorflow.keras import backend as K\n",
    "from tensorflow.keras.preprocessing import image\n",
    "from sklearn.metrics import accuracy_score, classification_report\n",
    "from pathlib import Path\n",
    "import cv2\n",
    "import warnings\n",
    "warnings.filterwarnings('ignore')"
   ]
  },
  {
   "cell_type": "code",
   "execution_count": null,
   "id": "457fdf6f",
   "metadata": {},
   "outputs": [],
   "source": [
    "# Load Data"
   ]
  },
  {
   "cell_type": "code",
   "execution_count": 4,
   "id": "0be941f0",
   "metadata": {},
   "outputs": [],
   "source": [
    "dir_path = 'C:/Users/srija/Downloads/chest_xray'\n",
    "train_dir = dir_path + '/train'\n",
    "test_dir = dir_path + '/test'"
   ]
  },
  {
   "cell_type": "code",
   "execution_count": 5,
   "id": "bc522c98",
   "metadata": {},
   "outputs": [
    {
     "data": {
      "text/plain": [
       "['NORMAL', 'PNEUMONIA']"
      ]
     },
     "execution_count": 5,
     "metadata": {},
     "output_type": "execute_result"
    }
   ],
   "source": [
    "classes = []\n",
    "for i in os.listdir(train_dir):\n",
    "  classes.append(i)\n",
    "classes"
   ]
  },
  {
   "cell_type": "code",
   "execution_count": 6,
   "id": "b9de3f09",
   "metadata": {},
   "outputs": [],
   "source": [
    "n_train = []\n",
    "n_test = []\n",
    "for c in classes:\n",
    "  train_images = os.listdir(train_dir + '/' + c)\n",
    "  n_train.append(len(train_images))\n",
    "  test_images = os.listdir(test_dir + '/' + c)\n",
    "  n_test.append(len(test_images))"
   ]
  },
  {
   "cell_type": "code",
   "execution_count": 7,
   "id": "365f8a78",
   "metadata": {},
   "outputs": [
    {
     "name": "stdout",
     "output_type": "stream",
     "text": [
      "[1349, 3883]\n",
      "[234, 390]\n"
     ]
    }
   ],
   "source": [
    "print(n_train)\n",
    "print(n_test)"
   ]
  },
  {
   "cell_type": "code",
   "execution_count": 8,
   "id": "5d88c0ef",
   "metadata": {},
   "outputs": [
    {
     "name": "stdout",
     "output_type": "stream",
     "text": [
      "     Classes  Train  Test\n",
      "0     NORMAL   1349   234\n",
      "1  PNEUMONIA   3883   390\n"
     ]
    }
   ],
   "source": [
    "data = pd.DataFrame({'Classes' : classes,\n",
    "                      'Train' : n_train,\n",
    "                      'Test' : n_test})\n",
    "print(data)"
   ]
  },
  {
   "cell_type": "code",
   "execution_count": 11,
   "id": "626da3a5",
   "metadata": {},
   "outputs": [],
   "source": [
    "plt.title?"
   ]
  },
  {
   "cell_type": "code",
   "execution_count": 25,
   "id": "63112d6e",
   "metadata": {},
   "outputs": [
    {
     "data": {
      "image/png": "[encoded data removed]",
      "text/plain": [
       "<Figure size 576x432 with 1 Axes>"
      ]
     },
     "metadata": {
      "needs_background": "light"
     },
     "output_type": "display_data"
    }
   ],
   "source": [
    "plt.figure(figsize=(8,6))\n",
    "ax = sns.barplot(data=data, x='Classes', y='Train')\n",
    "plt.xlabel('Classes', fontsize=15)\n",
    "plt.ylabel('Count', fontsize=15)\n",
    "plt.title('Training data', fontsize=20, pad=30)\n",
    "# Add count numbers on top of the bars\n",
    "for p in ax.patches:\n",
    "    ax.annotate(f'{int(p.get_height())}', (p.get_x() + p.get_width() / 2., p.get_height()), ha='center', va='center', fontsize=12, color='black', xytext=(0, 5), textcoords='offset points')\n",
    "plt.show()"
   ]
  },
  {
   "cell_type": "code",
   "execution_count": 30,
   "id": "2b8ad1b0",
   "metadata": {},
   "outputs": [
    {
     "data": {
      "image/png": "[encoded data removed]",
      "text/plain": [
       "<Figure size 576x432 with 1 Axes>"
      ]
     },
     "metadata": {
      "needs_background": "light"
     },
     "output_type": "display_data"
    }
   ],
   "source": [
    "plt.figure(figsize=(8,6))\n",
    "ax = sns.barplot(data=data, x='Classes', y='Test')\n",
    "plt.xlabel('Classes', fontsize=15)\n",
    "plt.ylabel('Count', fontsize=15)\n",
    "plt.title('Test data', fontsize=20, pad=30)\n",
    "# Add count numbers on top of the bars\n",
    "for p in ax.patches:\n",
    "    ax.annotate(f'{int(p.get_height())}', (p.get_x() + p.get_width() / 2., p.get_height()), ha='center', va='center', fontsize=12, color='black', xytext=(0, 5), textcoords='offset points')\n",
    "plt.show()"
   ]
  },
  {
   "cell_type": "code",
   "execution_count": 33,
   "id": "e8cb4376",
   "metadata": {},
   "outputs": [
    {
     "data": {
      "text/html": [
       "<div>\n",
       "<style scoped>\n",
       "    .dataframe tbody tr th:only-of-type {\n",
       "        vertical-align: middle;\n",
       "    }\n",
       "\n",
       "    .dataframe tbody tr th {\n",
       "        vertical-align: top;\n",
       "    }\n",
       "\n",
       "    .dataframe thead th {\n",
       "        text-align: right;\n",
       "    }\n",
       "</style>\n",
       "<table border=\"1\" class=\"dataframe\">\n",
       "  <thead>\n",
       "    <tr style=\"text-align: right;\">\n",
       "      <th></th>\n",
       "      <th>Path</th>\n",
       "      <th>Class</th>\n",
       "    </tr>\n",
       "  </thead>\n",
       "  <tbody>\n",
       "    <tr>\n",
       "      <th>0</th>\n",
       "      <td>C:/Users/srija/Downloads/chest_xray/train/NORM...</td>\n",
       "      <td>NORMAL</td>\n",
       "    </tr>\n",
       "    <tr>\n",
       "      <th>1</th>\n",
       "      <td>C:/Users/srija/Downloads/chest_xray/train/NORM...</td>\n",
       "      <td>NORMAL</td>\n",
       "    </tr>\n",
       "    <tr>\n",
       "      <th>2</th>\n",
       "      <td>C:/Users/srija/Downloads/chest_xray/train/NORM...</td>\n",
       "      <td>NORMAL</td>\n",
       "    </tr>\n",
       "    <tr>\n",
       "      <th>3</th>\n",
       "      <td>C:/Users/srija/Downloads/chest_xray/train/NORM...</td>\n",
       "      <td>NORMAL</td>\n",
       "    </tr>\n",
       "    <tr>\n",
       "      <th>4</th>\n",
       "      <td>C:/Users/srija/Downloads/chest_xray/train/NORM...</td>\n",
       "      <td>NORMAL</td>\n",
       "    </tr>\n",
       "  </tbody>\n",
       "</table>\n",
       "</div>"
      ],
      "text/plain": [
       "                                                Path   Class\n",
       "0  C:/Users/srija/Downloads/chest_xray/train/NORM...  NORMAL\n",
       "1  C:/Users/srija/Downloads/chest_xray/train/NORM...  NORMAL\n",
       "2  C:/Users/srija/Downloads/chest_xray/train/NORM...  NORMAL\n",
       "3  C:/Users/srija/Downloads/chest_xray/train/NORM...  NORMAL\n",
       "4  C:/Users/srija/Downloads/chest_xray/train/NORM...  NORMAL"
      ]
     },
     "execution_count": 33,
     "metadata": {},
     "output_type": "execute_result"
    }
   ],
   "source": [
    "train_df = pd.DataFrame({'Path':ptrain,'Class':ctrain})\n",
    "test_df = pd.DataFrame({'Path':ptest,'Class':ctest})\n",
    "train_df.head()"
   ]
  },
  {
   "cell_type": "code",
   "execution_count": 34,
   "id": "084b0c58",
   "metadata": {},
   "outputs": [],
   "source": [
    "train_df.to_csv('train_data.csv',index=False)\n",
    "test_df.to_csv('test_data.csv',index=False)"
   ]
  },
  {
   "cell_type": "code",
   "execution_count": null,
   "id": "6dfe7f05",
   "metadata": {},
   "outputs": [],
   "source": [
    "img_file, img_class = row['Path'], row['Class']"
   ]
  },
  {
   "cell_type": "code",
   "execution_count": 39,
   "id": "4058ab29",
   "metadata": {},
   "outputs": [],
   "source": [
    "# Define the paths to your data directories, Replace with the actual path\n",
    "train_directory = os.path.join(dir_path, 'train')\n",
    "validation_directory = os.path.join(dir_path, 'validation')\n",
    "\n",
    "# Define the percentage of data to move to the validation set (e.g., 20%)\n",
    "validation_split = 0.2\n",
    "\n",
    "# Create the validation directory if it doesn't exist\n",
    "os.makedirs(validation_directory, exist_ok=True)"
   ]
  },
  {
   "cell_type": "code",
   "execution_count": 40,
   "id": "a11076ed",
   "metadata": {},
   "outputs": [
    {
     "name": "stdout",
     "output_type": "stream",
     "text": [
      "Validation set created successfully.\n"
     ]
    }
   ],
   "source": [
    "# Iterate through each class (NORMAL and PNEUMONIA)\n",
    "for class_name in ['NORMAL', 'PNEUMONIA']:\n",
    "    class_directory = os.path.join(train_directory, class_name)\n",
    "    validation_class_directory = os.path.join(validation_directory, class_name)\n",
    "\n",
    "    # Create the validation class directory if it doesn't exist\n",
    "    os.makedirs(validation_class_directory, exist_ok=True)\n",
    "\n",
    "    # List all images in the class directory\n",
    "    images = os.listdir(class_directory)\n",
    "\n",
    "    # Calculate the number of images to move to the validation set\n",
    "    num_validation_images = int(len(images) * validation_split)\n",
    "\n",
    "    # Randomly select images for the validation set\n",
    "    validation_images = random.sample(images, num_validation_images)\n",
    "\n",
    "    # Move the selected images to the validation class directory\n",
    "    for image in validation_images:\n",
    "        source_path = os.path.join(class_directory, image)\n",
    "        destination_path = os.path.join(validation_class_directory, image)\n",
    "        shutil.move(source_path, destination_path)\n",
    "\n",
    "print('Validation set created successfully.')"
   ]
  },
  {
   "cell_type": "code",
   "execution_count": null,
   "id": "ed56c665",
   "metadata": {},
   "outputs": [],
   "source": [
    "# Define data generators with augmentation for training, validation, and testing\n",
    "train_datagen = ImageDataGenerator(\n",
    "    rescale=1.0/255.0,      # Rescale pixel values to [0, 1]\n",
    "    rotation_range=5,      # Random rotation\n",
    "    width_shift_range=0.1,  # Random horizontal shift\n",
    "    height_shift_range=0.1, # Random vertical shift\n",
    "    zoom_range=0.1,         # Random zoom\n",
    "    horizontal_flip=True,   # Random horizontal flip\n",
    "    fill_mode='nearest'     # Fill mode for pixel filling\n",
    ")\n",
    "\n",
    "validation_datagen = ImageDataGenerator(rescale=1.0/255.0)  # Only rescale for validation\n",
    "\n",
    "test_datagen = ImageDataGenerator(rescale=1.0/255.0)        # Only rescale for testing"
   ]
  },
  {
   "cell_type": "code",
   "execution_count": 52,
   "id": "589d3931",
   "metadata": {},
   "outputs": [
    {
     "name": "stdout",
     "output_type": "stream",
     "text": [
      "Found 4187 images belonging to 2 classes.\n",
      "Found 1045 images belonging to 2 classes.\n",
      "Found 624 images belonging to 2 classes.\n"
     ]
    }
   ],
   "source": [
    "# Create data generators for training, validation, and testing\n",
    "batch_size = 32\n",
    "train_generator = train_datagen.flow_from_directory(\n",
    "    os.path.join(dir_path, 'train'),\n",
    "    target_size=(150, 150),  # Specify your desired image size\n",
    "    batch_size=batch_size,\n",
    "    class_mode='binary'      # Change to 'categorical' if you have multiple classes\n",
    ")\n",
    "\n",
    "validation_generator = validation_datagen.flow_from_directory(\n",
    "    os.path.join(dir_path, 'validation'),\n",
    "    target_size=(150, 150),\n",
    "    batch_size=batch_size,\n",
    "    class_mode='binary'      # Change to 'categorical' if you have multiple classes\n",
    ")\n",
    "\n",
    "test_generator = test_datagen.flow_from_directory(\n",
    "    os.path.join(dir_path, 'test'),\n",
    "    target_size=(150, 150),\n",
    "    batch_size=batch_size,\n",
    "    class_mode='binary'      # Change to 'categorical' if you have multiple classes\n",
    ")"
   ]
  },
  {
   "cell_type": "code",
   "execution_count": 57,
   "id": "0f030628",
   "metadata": {},
   "outputs": [],
   "source": [
    "# Create CNN Model from scratch"
   ]
  },
  {
   "cell_type": "code",
   "execution_count": 53,
   "id": "8ecab4ee",
   "metadata": {},
   "outputs": [],
   "source": [
    "model = Sequential()\n",
    "model.add(Conv2D(32,(3,3),input_shape=(150, 150, 3), padding='same'))\n",
    "model.add(Conv2D(32,(3,3), padding='same'))\n",
    "model.add(Activation(\"relu\"))\n",
    "model.add(MaxPool2D(pool_size=(2,2)))\n",
    "model.add(BatchNormalization())\n",
    "\n",
    "model.add(Conv2D(32,(3,3), padding='same'))\n",
    "model.add(Conv2D(32,(3,3), padding='same'))\n",
    "model.add(Activation(\"relu\"))\n",
    "model.add(MaxPool2D(pool_size=(2,2)))\n",
    "model.add(BatchNormalization())\n",
    "\n",
    "model.add(Conv2D(64,(3,3), padding='same'))\n",
    "model.add(Conv2D(64,(3,3), padding='same'))\n",
    "model.add(Activation(\"relu\"))\n",
    "model.add(MaxPool2D(pool_size=(2,2)))\n",
    "model.add(BatchNormalization())\n",
    "\n",
    "model.add(Flatten())\n",
    "model.add(Dense(512))\n",
    "model.add(Activation(\"relu\"))\n",
    "model.add(BatchNormalization())\n",
    "\n",
    "model.add(Dense(64))\n",
    "model.add(Activation(\"relu\"))\n",
    "model.add(Dropout(0.5))\n",
    "\n",
    "model.add(Dense(1))\n",
    "model.add(Activation(\"sigmoid\"))"
   ]
  },
  {
   "cell_type": "code",
   "execution_count": 58,
   "id": "6518936a",
   "metadata": {},
   "outputs": [],
   "source": [
    "#model.summary()"
   ]
  },
  {
   "cell_type": "code",
   "execution_count": 55,
   "id": "d967b114",
   "metadata": {},
   "outputs": [],
   "source": [
    "model.compile(loss= \"binary_crossentropy\", optimizer=\"adam\", metrics=[\"accuracy\"])"
   ]
  },
  {
   "cell_type": "code",
   "execution_count": 56,
   "id": "7fc19340",
   "metadata": {},
   "outputs": [
    {
     "name": "stdout",
     "output_type": "stream",
     "text": [
      "Epoch 1/3\n",
      "131/131 [==============================] - 378s 3s/step - loss: 0.3472 - accuracy: 0.8646 - val_loss: 2.6282 - val_accuracy: 0.7426\n",
      "Epoch 2/3\n",
      "131/131 [==============================] - 283s 2s/step - loss: 0.2308 - accuracy: 0.9143 - val_loss: 1.2740 - val_accuracy: 0.7426\n",
      "Epoch 3/3\n",
      "131/131 [==============================] - 275s 2s/step - loss: 0.2022 - accuracy: 0.9255 - val_loss: 0.2773 - val_accuracy: 0.8813\n"
     ]
    }
   ],
   "source": [
    "history = model.fit_generator(train_generator, epochs=3 ,validation_data=validation_generator)"
   ]
  },
  {
   "cell_type": "code",
   "execution_count": 59,
   "id": "21524641",
   "metadata": {},
   "outputs": [
    {
     "data": {
      "image/png": "[encoded data removed]",
      "text/plain": [
       "<Figure size 720x360 with 1 Axes>"
      ]
     },
     "metadata": {
      "needs_background": "light"
     },
     "output_type": "display_data"
    }
   ],
   "source": [
    "# Plot loss during training\n",
    "import matplotlib.pyplot as plt\n",
    "plt.figure(figsize=(10, 5))\n",
    "plt.plot(history.history['loss'], label='Training Loss')\n",
    "plt.plot(history.history['val_loss'], label='Validation Loss')\n",
    "plt.xlabel('Epoch')\n",
    "plt.ylabel('Loss')\n",
    "plt.title('Loss Plot')\n",
    "plt.legend()\n",
    "plt.show()"
   ]
  },
  {
   "cell_type": "code",
   "execution_count": 60,
   "id": "ce5b66ee",
   "metadata": {},
   "outputs": [
    {
     "data": {
      "image/png": "[encoded data removed]",
      "text/plain": [
       "<Figure size 720x360 with 1 Axes>"
      ]
     },
     "metadata": {
      "needs_background": "light"
     },
     "output_type": "display_data"
    }
   ],
   "source": [
    "plt.figure(figsize=(10, 5))\n",
    "plt.plot(history.history['accuracy'], label='Training Accuracy')\n",
    "plt.plot(history.history['val_accuracy'], label='Validation Accuracy')\n",
    "plt.xlabel('Epoch')\n",
    "plt.ylabel('Accuracy')\n",
    "plt.title('Accuracy Plot')\n",
    "plt.legend()\n",
    "plt.show()"
   ]
  },
  {
   "cell_type": "code",
   "execution_count": 61,
   "id": "4e73d008",
   "metadata": {},
   "outputs": [],
   "source": [
    "test_accuracy = model.evaluate_generator(test_generator)"
   ]
  },
  {
   "cell_type": "code",
   "execution_count": 62,
   "id": "c8a626c1",
   "metadata": {},
   "outputs": [
    {
     "name": "stdout",
     "output_type": "stream",
     "text": [
      "The accuracy on test set : 68.58974099159241\n"
     ]
    }
   ],
   "source": [
    "print('The accuracy on test set :',test_accuracy[1]*100 )"
   ]
  },
  {
   "cell_type": "code",
   "execution_count": 63,
   "id": "c759a544",
   "metadata": {},
   "outputs": [
    {
     "name": "stdout",
     "output_type": "stream",
     "text": [
      "20/20 [==============================] - 16s 803ms/step\n",
      "Classification Report:\n",
      "              precision    recall  f1-score   support\n",
      "\n",
      "           0       0.37      0.16      0.22       234\n",
      "           1       0.62      0.83      0.71       390\n",
      "\n",
      "    accuracy                           0.58       624\n",
      "   macro avg       0.49      0.50      0.47       624\n",
      "weighted avg       0.53      0.58      0.53       624\n",
      "\n"
     ]
    }
   ],
   "source": [
    "from sklearn.metrics import confusion_matrix\n",
    "\n",
    "# Calculate precision, recall, and F1 score\n",
    "test_predictions = model.predict(test_generator)\n",
    "test_predictions = (test_predictions > 0.5).astype(int)\n",
    "print(\"Classification Report:\")\n",
    "print(classification_report(test_generator.classes, test_predictions))"
   ]
  },
  {
   "cell_type": "code",
   "execution_count": 64,
   "id": "483332e7",
   "metadata": {},
   "outputs": [
    {
     "name": "stdout",
     "output_type": "stream",
     "text": [
      "Confusion Matrix:\n",
      "[[ 38 196]\n",
      " [ 66 324]]\n"
     ]
    }
   ],
   "source": [
    "# Calculate confusion matrix\n",
    "conf_matrix = confusion_matrix(test_generator.classes, test_predictions)\n",
    "print(\"Confusion Matrix:\")\n",
    "print(conf_matrix)"
   ]
  },
  {
   "cell_type": "code",
   "execution_count": 65,
   "id": "e2ca5e5f",
   "metadata": {},
   "outputs": [
    {
     "data": {
      "image/png": "[encoded data removed]",
      "text/plain": [
       "<Figure size 720x576 with 2 Axes>"
      ]
     },
     "metadata": {
      "needs_background": "light"
     },
     "output_type": "display_data"
    }
   ],
   "source": [
    "row_sums = conf_matrix.sum(axis=1, keepdims=True)\n",
    "norm_conf_matrix = conf_matrix / row_sums\n",
    "\n",
    "# Display colored confusion matrix\n",
    "plt.figure(figsize=(10, 8))\n",
    "sns.heatmap(norm_conf_matrix, annot=True, xticklabels=['Pneumonia','Normal'], yticklabels=['Pneumonia','Normal'])\n",
    "plt.xlabel(\"Predicted Label\")\n",
    "plt.ylabel(\"True Label\")\n",
    "plt.title(\"Confusion Matrix\")\n",
    "plt.show()"
   ]
  },
  {
   "cell_type": "code",
   "execution_count": null,
   "id": "1931f8dd",
   "metadata": {},
   "outputs": [],
   "source": []
  },
  {
   "cell_type": "code",
   "execution_count": null,
   "id": "6ccf0ccd",
   "metadata": {},
   "outputs": [],
   "source": []
  },
  {
   "cell_type": "code",
   "execution_count": null,
   "id": "880d3e22",
   "metadata": {},
   "outputs": [],
   "source": []
  },
  {
   "cell_type": "code",
   "execution_count": null,
   "id": "7fcfaf65",
   "metadata": {},
   "outputs": [],
   "source": [
    "# Transfer Learning using Inception V3"
   ]
  },
  {
   "cell_type": "code",
   "execution_count": 66,
   "id": "7f0dc135",
   "metadata": {},
   "outputs": [
    {
     "name": "stdout",
     "output_type": "stream",
     "text": [
      "Downloading data from https://storage.googleapis.com/tensorflow/keras-applications/inception_v3/inception_v3_weights_tf_dim_ordering_tf_kernels_notop.h5\n",
      "87910968/87910968 [==============================] - 7s 0us/step\n"
     ]
    }
   ],
   "source": [
    "from keras.applications import InceptionV3, VGG16\n",
    "from keras.models import Model\n",
    "from keras.layers import Dense, GlobalAveragePooling2D, Dropout\n",
    "\n",
    "# Load the InceptionV3 model without the top (fully connected) layers\n",
    "base_model = InceptionV3(input_shape = (150, 150, 3), weights='imagenet', include_top=False)\n",
    "\n",
    "#base_model = VGG16(include_top=False, weights='imagenet', input_shape=(32, 32, 3))"
   ]
  },
  {
   "cell_type": "code",
   "execution_count": 67,
   "id": "66225908",
   "metadata": {},
   "outputs": [],
   "source": [
    "# Add your own top layers for classification\n",
    "x = base_model.output\n",
    "x = GlobalAveragePooling2D()(x)\n",
    "x = Dense(256, activation='relu')(x)\n",
    "x = Dropout(0.5)(x)\n",
    "x = Dense(128, activation='relu')(x)\n",
    "predictions = Dense(1, activation='sigmoid')(x)\n",
    "\n",
    "# Create the model\n",
    "model = Model(inputs=base_model.input, outputs=predictions)\n",
    "\n",
    "# Freeze the layers in the base model\n",
    "for layer in base_model.layers:\n",
    "    layer.trainable = True\n",
    "\n",
    "# Compile the model with binary cross-entropy loss\n",
    "model.compile(optimizer='adam', loss='binary_crossentropy', metrics=['accuracy'])\n",
    "#model.summary()"
   ]
  },
  {
   "cell_type": "code",
   "execution_count": 68,
   "id": "61939a96",
   "metadata": {},
   "outputs": [
    {
     "name": "stdout",
     "output_type": "stream",
     "text": [
      "Epoch 1/5\n",
      "131/131 [==============================] - 1061s 8s/step - loss: 0.2496 - accuracy: 0.9186 - val_loss: 21937.3066 - val_accuracy: 0.7426\n",
      "Epoch 2/5\n",
      "131/131 [==============================] - 945s 7s/step - loss: 0.1883 - accuracy: 0.9455 - val_loss: 0.9055 - val_accuracy: 0.6995\n",
      "Epoch 3/5\n",
      "131/131 [==============================] - 1014s 8s/step - loss: 0.1025 - accuracy: 0.9639 - val_loss: 1.8632 - val_accuracy: 0.7024\n",
      "Epoch 4/5\n",
      "131/131 [==============================] - 1130s 9s/step - loss: 0.0782 - accuracy: 0.9718 - val_loss: 0.1158 - val_accuracy: 0.9656\n",
      "Epoch 5/5\n",
      "131/131 [==============================] - 857s 7s/step - loss: 0.0849 - accuracy: 0.9733 - val_loss: 0.4256 - val_accuracy: 0.9043\n"
     ]
    }
   ],
   "source": [
    "# Train the model\n",
    "history = model.fit(train_generator, epochs=5, validation_data=validation_generator)"
   ]
  },
  {
   "cell_type": "code",
   "execution_count": 69,
   "id": "889bc560",
   "metadata": {},
   "outputs": [
    {
     "data": {
      "image/png": "[encoded data removed]",
      "text/plain": [
       "<Figure size 720x360 with 1 Axes>"
      ]
     },
     "metadata": {
      "needs_background": "light"
     },
     "output_type": "display_data"
    }
   ],
   "source": [
    "# Plot loss during training\n",
    "import matplotlib.pyplot as plt\n",
    "plt.figure(figsize=(10, 5))\n",
    "plt.plot(history.history['loss'], label='Training Loss')\n",
    "plt.plot(history.history['val_loss'], label='Validation Loss')\n",
    "plt.xlabel('Epoch')\n",
    "plt.ylabel('Loss')\n",
    "#plt.title('Loss Plot')\n",
    "plt.legend()\n",
    "plt.show()"
   ]
  },
  {
   "cell_type": "code",
   "execution_count": 70,
   "id": "f9645a85",
   "metadata": {},
   "outputs": [
    {
     "name": "stdout",
     "output_type": "stream",
     "text": [
      "20/20 [==============================] - 29s 1s/step - loss: 0.3706 - accuracy: 0.8782\n",
      "Test Loss: 0.3706294000148773, Test Accuracy: 0.8782051205635071\n",
      "20/20 [==============================] - 31s 1s/step\n",
      "Classification Report:\n",
      "              precision    recall  f1-score   support\n",
      "\n",
      "           0       0.35      0.32      0.33       234\n",
      "           1       0.61      0.63      0.62       390\n",
      "\n",
      "    accuracy                           0.52       624\n",
      "   macro avg       0.48      0.48      0.48       624\n",
      "weighted avg       0.51      0.52      0.51       624\n",
      "\n"
     ]
    }
   ],
   "source": [
    "# Evaluate the model on test data\n",
    "test_loss, test_accuracy = model.evaluate(test_generator, steps=len(test_generator))\n",
    "print(f\"Test Loss: {test_loss}, Test Accuracy: {test_accuracy}\")\n",
    "\n",
    "# Calculate precision, recall, and F1 score\n",
    "test_predictions = model.predict(test_generator)\n",
    "test_predictions = (test_predictions > 0.5).astype(int)\n",
    "print(\"Classification Report:\")\n",
    "print(classification_report(test_generator.classes, test_predictions))"
   ]
  },
  {
   "cell_type": "code",
   "execution_count": 71,
   "id": "f124ddae",
   "metadata": {},
   "outputs": [
    {
     "name": "stdout",
     "output_type": "stream",
     "text": [
      "Confusion Matrix:\n",
      "[[ 76 158]\n",
      " [144 246]]\n"
     ]
    }
   ],
   "source": [
    "# Calculate confusion matrix\n",
    "\n",
    "conf_matrix = confusion_matrix(test_generator.classes, test_predictions)\n",
    "print(\"Confusion Matrix:\")\n",
    "print(conf_matrix)"
   ]
  },
  {
   "cell_type": "code",
   "execution_count": 74,
   "id": "ad83f1f6",
   "metadata": {},
   "outputs": [
    {
     "data": {
      "image/png": "[encoded data removed]",
      "text/plain": [
       "<Figure size 720x576 with 2 Axes>"
      ]
     },
     "metadata": {
      "needs_background": "light"
     },
     "output_type": "display_data"
    }
   ],
   "source": [
    "row_sums = conf_matrix.sum(axis=1, keepdims=True)\n",
    "norm_conf_matrix = conf_matrix / row_sums\n",
    "\n",
    "# Display colored confusion matrix\n",
    "plt.figure(figsize=(10, 8))\n",
    "sns.heatmap(conf_matrix, annot=True, xticklabels=['Normal', 'Pneumonia'], yticklabels=['Pneumonia','Normal'])\n",
    "plt.xlabel(\"Predicted Label\")\n",
    "plt.ylabel(\"True Label\")\n",
    "plt.title(\"Confusion Matrix\")\n",
    "plt.show()"
   ]
  },
  {
   "cell_type": "code",
   "execution_count": null,
   "id": "bc56b181",
   "metadata": {},
   "outputs": [],
   "source": [
    "# Save the trained model\n",
    "model.save('classifier_model.h5')"
   ]
  }
 ],
 "metadata": {
  "kernelspec": {
   "display_name": "Python 3 (ipykernel)",
   "language": "python",
   "name": "python3"
  },
  "language_info": {
   "codemirror_mode": {
    "name": "ipython",
    "version": 3
   },
   "file_extension": ".py",
   "mimetype": "text/x-python",
   "name": "python",
   "nbconvert_exporter": "python",
   "pygments_lexer": "ipython3",
   "version": "3.9.12"
  }
 },
 "nbformat": 4,
 "nbformat_minor": 5
}
